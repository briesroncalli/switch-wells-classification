{
 "cells": [
  {
   "attachments": {},
   "cell_type": "markdown",
   "metadata": {},
   "source": [
    "## Water Quality Additional Step\n",
    "Ben Ries-Roncalli\n",
    "\n",
    "May 19th, 2022"
   ]
  },
  {
   "attachments": {},
   "cell_type": "markdown",
   "metadata": {},
   "source": [
    "$\\rightarrow$ Import the necessary packages"
   ]
  },
  {
   "cell_type": "code",
   "execution_count": 2,
   "metadata": {},
   "outputs": [],
   "source": [
    "# import necessary packages\n",
    "import numpy as np\n",
    "import pandas as pd\n",
    "import matplotlib.pyplot as plt\n",
    "\n",
    "import seaborn as sns\n",
    "sns.set_style(\"whitegrid\")\n",
    "\n",
    "# Random Forest Classifier\n",
    "from sklearn.ensemble import RandomForestClassifier\n",
    "\n",
    "#SVC\n",
    "from sklearn.svm import SVC\n",
    "from sklearn import svm\n",
    "\n",
    "# Neural Network Classifier\n",
    "from sklearn.neural_network import MLPClassifier\n",
    "\n",
    "from sklearn.metrics import plot_confusion_matrix, confusion_matrix, accuracy_score # for accuracy metrics & confusion matrices\n",
    "from sklearn.preprocessing import StandardScaler # for data preprocessing\n",
    "%matplotlib inline"
   ]
  },
  {
   "attachments": {},
   "cell_type": "markdown",
   "metadata": {},
   "source": [
    "$\\rightarrow$ Load in the training and testing data sets from the RMarkdown file. These should be the same as the ones used in R for fair comparisons between the models."
   ]
  },
  {
   "cell_type": "code",
   "execution_count": 3,
   "metadata": {},
   "outputs": [
    {
     "data": {
      "text/html": [
       "<div>\n",
       "<style scoped>\n",
       "    .dataframe tbody tr th:only-of-type {\n",
       "        vertical-align: middle;\n",
       "    }\n",
       "\n",
       "    .dataframe tbody tr th {\n",
       "        vertical-align: top;\n",
       "    }\n",
       "\n",
       "    .dataframe thead th {\n",
       "        text-align: right;\n",
       "    }\n",
       "</style>\n",
       "<table border=\"1\" class=\"dataframe\">\n",
       "  <thead>\n",
       "    <tr style=\"text-align: right;\">\n",
       "      <th></th>\n",
       "      <th>switch_well</th>\n",
       "      <th>arsenic</th>\n",
       "      <th>distance</th>\n",
       "      <th>association</th>\n",
       "      <th>education</th>\n",
       "    </tr>\n",
       "  </thead>\n",
       "  <tbody>\n",
       "    <tr>\n",
       "      <th>0</th>\n",
       "      <td>0</td>\n",
       "      <td>2.07</td>\n",
       "      <td>0.20967</td>\n",
       "      <td>0</td>\n",
       "      <td>10</td>\n",
       "    </tr>\n",
       "    <tr>\n",
       "      <th>1</th>\n",
       "      <td>0</td>\n",
       "      <td>2.80</td>\n",
       "      <td>1.07691</td>\n",
       "      <td>0</td>\n",
       "      <td>0</td>\n",
       "    </tr>\n",
       "    <tr>\n",
       "      <th>2</th>\n",
       "      <td>0</td>\n",
       "      <td>0.81</td>\n",
       "      <td>1.07691</td>\n",
       "      <td>0</td>\n",
       "      <td>0</td>\n",
       "    </tr>\n",
       "    <tr>\n",
       "      <th>3</th>\n",
       "      <td>0</td>\n",
       "      <td>1.92</td>\n",
       "      <td>1.07691</td>\n",
       "      <td>1</td>\n",
       "      <td>0</td>\n",
       "    </tr>\n",
       "    <tr>\n",
       "      <th>4</th>\n",
       "      <td>0</td>\n",
       "      <td>3.95</td>\n",
       "      <td>1.07691</td>\n",
       "      <td>0</td>\n",
       "      <td>0</td>\n",
       "    </tr>\n",
       "  </tbody>\n",
       "</table>\n",
       "</div>"
      ],
      "text/plain": [
       "   switch_well  arsenic  distance  association  education\n",
       "0            0     2.07   0.20967            0         10\n",
       "1            0     2.80   1.07691            0          0\n",
       "2            0     0.81   1.07691            0          0\n",
       "3            0     1.92   1.07691            1          0\n",
       "4            0     3.95   1.07691            0          0"
      ]
     },
     "execution_count": 3,
     "metadata": {},
     "output_type": "execute_result"
    }
   ],
   "source": [
    "#Load in the test & train splits\n",
    "df_train = pd.read_csv('wells_train.csv')\n",
    "df_test = pd.read_csv('wells_test.csv')\n",
    "df_train.head()"
   ]
  },
  {
   "cell_type": "code",
   "execution_count": 4,
   "metadata": {},
   "outputs": [
    {
     "data": {
      "text/plain": [
       "(2415, 5)"
      ]
     },
     "execution_count": 4,
     "metadata": {},
     "output_type": "execute_result"
    }
   ],
   "source": [
    "df_train.shape"
   ]
  },
  {
   "attachments": {},
   "cell_type": "markdown",
   "metadata": {},
   "source": [
    "$\\rightarrow$ Reshape the data to work with the sklearn models"
   ]
  },
  {
   "cell_type": "code",
   "execution_count": 5,
   "metadata": {},
   "outputs": [],
   "source": [
    "#reshape for modeling\n",
    "X_train = df_train.drop('switch_well', axis=1)\n",
    "X_test = df_test.drop('switch_well', axis=1)\n",
    "\n",
    "y_train = df_train['switch_well']\n",
    "y_test = df_test['switch_well']"
   ]
  },
  {
   "attachments": {},
   "cell_type": "markdown",
   "metadata": {},
   "source": [
    "$\\rightarrow$ Normalize the variables"
   ]
  },
  {
   "cell_type": "code",
   "execution_count": 6,
   "metadata": {},
   "outputs": [],
   "source": [
    "#Standard scaling\n",
    "sc = StandardScaler()\n",
    "X_train = sc.fit_transform(X_train)\n",
    "X_test = sc.transform(X_test)"
   ]
  },
  {
   "attachments": {},
   "cell_type": "markdown",
   "metadata": {},
   "source": [
    "## RANDOM FOREST CLASSIFIER\n",
    "This is another decision tree method, here we can quickly compare it to the XGBoost model in R."
   ]
  },
  {
   "attachments": {},
   "cell_type": "markdown",
   "metadata": {},
   "source": [
    "$\\rightarrow$ Build the random forest classifier and predict on the test data."
   ]
  },
  {
   "cell_type": "code",
   "execution_count": 9,
   "metadata": {},
   "outputs": [],
   "source": [
    "rfc = RandomForestClassifier(n_estimators=200)\n",
    "rfc.fit(X_train, y_train)\n",
    "pred_rfc = rfc.predict(X_test)"
   ]
  },
  {
   "attachments": {},
   "cell_type": "markdown",
   "metadata": {},
   "source": [
    "$\\rightarrow$ Get measurements of the accuracy of the predictions of the random forest model."
   ]
  },
  {
   "cell_type": "code",
   "execution_count": 10,
   "metadata": {},
   "outputs": [
    {
     "data": {
      "image/png": "[encoded data removed]",
      "text/plain": [
       "<Figure size 432x288 with 2 Axes>"
      ]
     },
     "metadata": {
      "needs_background": "light"
     },
     "output_type": "display_data"
    },
    {
     "name": "stdout",
     "output_type": "stream",
     "text": [
      "Accuracy 0.602\n",
      "Sensitivity:  0.71\n",
      "Specificity:  0.455\n"
     ]
    }
   ],
   "source": [
    "# get metrics on predictions\n",
    "tn, fp, fn, tp = confusion_matrix(y_test, pred_rfc).ravel()\n",
    "rfc_accuracy = round(accuracy_score(y_test, pred_rfc), 3)\n",
    "rfc_sensitivity = round(tp / (tp + fn), 3)\n",
    "rfc_specificity = round(tn / (tn+fp), 3)\n",
    "\n",
    "# display metrics\n",
    "plot_confusion_matrix(rfc, X_test, y_test, cmap=\"Blues\")  \n",
    "plt.grid(False)\n",
    "plt.show()\n",
    "print('Accuracy', rfc_accuracy)\n",
    "print('Sensitivity: ', rfc_sensitivity)\n",
    "print('Specificity: ', rfc_specificity)"
   ]
  },
  {
   "attachments": {},
   "cell_type": "markdown",
   "metadata": {},
   "source": [
    "$\\rightarrow$ Extract the importance of the variables in the random forest model."
   ]
  },
  {
   "cell_type": "code",
   "execution_count": 11,
   "metadata": {},
   "outputs": [
    {
     "name": "stdout",
     "output_type": "stream",
     "text": [
      "Feature: arsenic, Score: 0.38522\n",
      "Feature: distance, Score: 0.45073\n",
      "Feature: association, Score: 0.03696\n",
      "Feature: education, Score: 0.12708\n"
     ]
    },
    {
     "data": {
      "image/png": "[encoded data removed]",
      "text/plain": [
       "<Figure size 432x288 with 1 Axes>"
      ]
     },
     "metadata": {
      "needs_background": "light"
     },
     "output_type": "display_data"
    }
   ],
   "source": [
    "importance = rfc.feature_importances_\n",
    "features_names = ['arsenic', 'distance', 'association', 'education']\n",
    "# summarize feature importance\n",
    "for i,v in enumerate(importance):\n",
    "\tprint('Feature: %0s, Score: %.5f' % (features_names[i],v))\n",
    "# plot feature importance\n",
    "x = [0, 1, 2, 3]\n",
    "ax1 = plt.subplot()\n",
    "ax1.set_xticks(x)\n",
    "plt.bar([x for x in range(len(importance))], importance)\n",
    "\n",
    "ax1.set_xticklabels(features_names) \n",
    "plt.show()"
   ]
  },
  {
   "attachments": {},
   "cell_type": "markdown",
   "metadata": {},
   "source": [
    "`arsenic` and `distance` dominate the random forest model in terms of importance. `association` is by far the least important predictor in the random forest model."
   ]
  },
  {
   "attachments": {},
   "cell_type": "markdown",
   "metadata": {},
   "source": [
    "## SUPPORT VECTOR MACHINE (SVM)\n",
    "This model, too, works somewhat similarly to a decision tree model in some ways."
   ]
  },
  {
   "attachments": {},
   "cell_type": "markdown",
   "metadata": {},
   "source": [
    "$\\rightarrow$ Build the support vector machine classifier and predict on the test data."
   ]
  },
  {
   "cell_type": "code",
   "execution_count": 16,
   "metadata": {},
   "outputs": [],
   "source": [
    "clf = svm.SVC()\n",
    "clf.fit(X_train, y_train)\n",
    "pred_clf = clf.predict(X_test)"
   ]
  },
  {
   "attachments": {},
   "cell_type": "markdown",
   "metadata": {},
   "source": [
    "$\\rightarrow$ Get measurements of the accuracy of the predictions of the SVM classifier."
   ]
  },
  {
   "cell_type": "code",
   "execution_count": 17,
   "metadata": {},
   "outputs": [
    {
     "data": {
      "image/png": "[encoded data removed]",
      "text/plain": [
       "<Figure size 432x288 with 2 Axes>"
      ]
     },
     "metadata": {
      "needs_background": "light"
     },
     "output_type": "display_data"
    },
    {
     "name": "stdout",
     "output_type": "stream",
     "text": [
      "Accuracy 0.588\n",
      "Sensitivity:  0.724\n",
      "Specificity:  0.405\n"
     ]
    }
   ],
   "source": [
    "# get metrics on predictions\n",
    "tn, fp, fn, tp = confusion_matrix(y_test, pred_clf).ravel()\n",
    "clf_accuracy = round(accuracy_score(y_test, pred_clf), 3)\n",
    "clf_sensitivity = round(tp / (tp + fn), 3)\n",
    "clf_specificity = round(tn / (tn+fp), 3)\n",
    "\n",
    "# display metrics\n",
    "plot_confusion_matrix(clf, X_test, y_test, cmap=\"Blues\")  \n",
    "plt.grid(False)\n",
    "plt.show()\n",
    "print('Accuracy', clf_accuracy)\n",
    "print('Sensitivity: ', clf_sensitivity)\n",
    "print('Specificity: ', clf_specificity)"
   ]
  },
  {
   "attachments": {},
   "cell_type": "markdown",
   "metadata": {},
   "source": [
    "Since we did not set `kernel = \"linear\"` in our SVM model, we cannot extract the importance of the predictors as easily."
   ]
  },
  {
   "attachments": {},
   "cell_type": "markdown",
   "metadata": {},
   "source": [
    "## NEURAL NETWORK"
   ]
  },
  {
   "attachments": {},
   "cell_type": "markdown",
   "metadata": {},
   "source": [
    "Here we will use two hidden layers with 4 neurons each."
   ]
  },
  {
   "attachments": {},
   "cell_type": "markdown",
   "metadata": {},
   "source": [
    "$\\rightarrow$ Build the neural network and predict on the test data."
   ]
  },
  {
   "cell_type": "code",
   "execution_count": 38,
   "metadata": {},
   "outputs": [],
   "source": [
    "mlpc = MLPClassifier(hidden_layer_sizes=(4, 4), max_iter = 500)\n",
    "mlpc.fit(X_train, y_train)\n",
    "pred_mlpc = mlpc.predict(X_test)"
   ]
  },
  {
   "attachments": {},
   "cell_type": "markdown",
   "metadata": {},
   "source": [
    "$\\rightarrow$ Get measurements of the accuracy of the predictions of the neural network."
   ]
  },
  {
   "cell_type": "code",
   "execution_count": 39,
   "metadata": {},
   "outputs": [
    {
     "data": {
      "image/png": "[encoded data removed]",
      "text/plain": [
       "<Figure size 432x288 with 2 Axes>"
      ]
     },
     "metadata": {
      "needs_background": "light"
     },
     "output_type": "display_data"
    },
    {
     "name": "stdout",
     "output_type": "stream",
     "text": [
      "Accuracy 0.623\n",
      "Sensitivity:  0.776\n",
      "Specificity:  0.416\n"
     ]
    }
   ],
   "source": [
    "# get metrics on predictions\n",
    "tn, fp, fn, tp = confusion_matrix(y_test, pred_mlpc).ravel()\n",
    "mlpc_accuracy = round(accuracy_score(y_test, pred_mlpc), 3)\n",
    "mlpc_sensitivity = round(tp / (tp + fn), 3)\n",
    "mlpc_specificity = round(tn / (tn+fp), 3)\n",
    "\n",
    "# display metrics\n",
    "plot_confusion_matrix(mlpc, X_test, y_test, cmap=\"Blues\")  \n",
    "plt.grid(False)\n",
    "plt.show()\n",
    "print('Accuracy', mlpc_accuracy)\n",
    "print('Sensitivity: ', mlpc_sensitivity)\n",
    "print('Specificity: ', mlpc_specificity)"
   ]
  }
 ],
 "metadata": {
  "interpreter": {
   "hash": "40d3a090f54c6569ab1632332b64b2c03c39dcf918b08424e98f38b5ae0af88f"
  },
  "kernelspec": {
   "display_name": "Python 3",
   "language": "python",
   "name": "python3"
  },
  "language_info": {
   "codemirror_mode": {
    "name": "ipython",
    "version": 3
   },
   "file_extension": ".py",
   "mimetype": "text/x-python",
   "name": "python",
   "nbconvert_exporter": "python",
   "pygments_lexer": "ipython3",
   "version": "3.8.3"
  }
 },
 "nbformat": 4,
 "nbformat_minor": 2
}
